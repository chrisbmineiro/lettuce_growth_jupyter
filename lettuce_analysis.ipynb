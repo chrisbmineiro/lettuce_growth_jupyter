{
 "cells": [
  {
   "cell_type": "code",
   "execution_count": 1,
   "metadata": {},
   "outputs": [
    {
     "ename": "",
     "evalue": "",
     "output_type": "error",
     "traceback": [
      "\u001b[1;31mFalha ao iniciar o Kernel. \n",
      "\u001b[1;31mNão é possível iniciar o Kernel \"myenv (Python 3.12.6)\" devido a um tempo limite aguardando as portas serem usadas. \n",
      "\u001b[1;31mConsulte o <a href='command:jupyter.viewOutput'>log</a> do Jupyter para obter mais detalhes."
     ]
    }
   ],
   "source": [
    "import numpy as np\n",
    "import pandas as pd\n",
    "import matplotlib.pyplot as plt"
   ]
  },
  {
   "cell_type": "code",
   "execution_count": 2,
   "metadata": {},
   "outputs": [],
   "source": [
    "# isolating the file path\n",
    "filepath = './lettuce_dataset.csv'"
   ]
  },
  {
   "cell_type": "code",
   "execution_count": 3,
   "metadata": {},
   "outputs": [],
   "source": [
    "# read archive with pandas library\n",
    "df = pd.read_csv(filepath, encoding='latin1')"
   ]
  },
  {
   "cell_type": "code",
   "execution_count": 4,
   "metadata": {},
   "outputs": [],
   "source": [
    "# convert Date to datetime type\n",
    "df['Date'] = pd.to_datetime(df['Date'])"
   ]
  },
  {
   "cell_type": "code",
   "execution_count": null,
   "metadata": {},
   "outputs": [],
   "source": [
    "# plot temperature and humidity\n",
    "plt.figure(figsize=(10, 5))\n",
    "plt.plot(df['Date'], df['Temperature (°C)'], label='Temperature (°C)', color='red')\n",
    "plt.plot(df['Date'], df['Humidity (%)'], label='Humidity (%)', color='blue')\n",
    "plt.xlabel('Date')\n",
    "plt.ylabel('Value')\n",
    "plt.title('Temperature and Humidity Over Time')\n",
    "plt.legend()\n",
    "plt.grid()\n",
    "plt.show()"
   ]
  },
  {
   "cell_type": "code",
   "execution_count": null,
   "metadata": {},
   "outputs": [],
   "source": [
    "# plot a TDS vs. Growth Days\n",
    "plt.figure(figsize=(8, 6))\n",
    "plt.scatter(df['TDS Value (ppm)'], df['Growth Days'], color='green', alpha=0.6)\n",
    "plt.xlabel('TDS Value (ppm)')\n",
    "plt.ylabel('Growth Days')\n",
    "plt.title('TDS vs. Growth Days')\n",
    "plt.grid()\n",
    "plt.show()"
   ]
  },
  {
   "cell_type": "code",
   "execution_count": null,
   "metadata": {},
   "outputs": [],
   "source": [
    "# plot a distribution\n",
    "df['pH Level'].plot(kind='box', title='pH Level Distribution', grid=True, color='blue')\n",
    "plt.ylabel('pH Level')\n",
    "plt.show()"
   ]
  },
  {
   "cell_type": "code",
   "execution_count": null,
   "metadata": {},
   "outputs": [],
   "source": [
    "# compute correlation matrix\n",
    "correlation_matrix = df[['Temperature (°C)', 'Humidity (%)', 'TDS Value (ppm)', 'pH Level', 'Growth Days']].corr()\n",
    "\n",
    "# plot a heatmap\n",
    "plt.imshow(correlation_matrix, cmap='coolwarm', interpolation='nearest')\n",
    "plt.colorbar()\n",
    "plt.title('Correlation Heatmap')\n",
    "plt.xticks(range(len(correlation_matrix.columns)), correlation_matrix.columns, rotation=45)\n",
    "plt.yticks(range(len(correlation_matrix.columns)), correlation_matrix.columns)\n",
    "plt.show()"
   ]
  },
  {
   "cell_type": "code",
   "execution_count": null,
   "metadata": {},
   "outputs": [],
   "source": [
    "# summary statistics for numerical columns\n",
    "summary_stats = df.describe()\n",
    "print(summary_stats)"
   ]
  },
  {
   "cell_type": "markdown",
   "metadata": {},
   "source": [
    "# Challenges for basic analysis course of Google solution\n",
    "1. Converting Celsius to Farenheit\n",
    "2. Converting days to weeks\n",
    "3. Modifying the humidity column \n",
    "4. Creating a new spreadsheet to perform exploratory data analysis"
   ]
  },
  {
   "cell_type": "code",
   "execution_count": 10,
   "metadata": {},
   "outputs": [],
   "source": [
    "# convert Celsius to Fahrenheit\n",
    "df['Temperature (°F)'] = df['Temperature (°C)'] * 9/5 + 32\n",
    "\n",
    "# convert days to weeks\n",
    "df['Growth Weeks'] = (df['Growth Days'] / 7).round(2)\n",
    "\n",
    "# normalize humidity\n",
    "df['Normalized Humidity'] = (df['Humidity (%)'] - df['Humidity (%)'].min()) / (df['Humidity (%)'].max() - df['Humidity (%)'].min())\n",
    "\n",
    "# categorize humidity levels\n",
    "def categorize_humidity(humidity):\n",
    "    if humidity < 30:\n",
    "        return 'Low'\n",
    "    elif 30 <= humidity <= 60:\n",
    "        return 'Moderate'\n",
    "    else:\n",
    "        return 'High'\n",
    "\n",
    "df['Humidity Level'] = df['Humidity (%)'].apply(categorize_humidity)"
   ]
  },
  {
   "cell_type": "code",
   "execution_count": 11,
   "metadata": {},
   "outputs": [],
   "source": [
    "# Save the new dataset\n",
    "df.to_csv('modified_lettuce_data.csv', index=False)"
   ]
  },
  {
   "cell_type": "code",
   "execution_count": null,
   "metadata": {},
   "outputs": [],
   "source": [
    "# reload modified dataset\n",
    "modified_df = pd.read_csv('modified_lettuce_data.csv')\n",
    "\n",
    "# quick summary\n",
    "print(modified_df.describe())\n",
    "\n",
    "# check for unique values in 'Humidity Level'\n",
    "print(modified_df['Humidity Level'].value_counts())"
   ]
  }
 ],
 "metadata": {
  "kernelspec": {
   "display_name": "myenv",
   "language": "python",
   "name": "python3"
  },
  "language_info": {
   "codemirror_mode": {
    "name": "ipython",
    "version": 3
   },
   "file_extension": ".py",
   "mimetype": "text/x-python",
   "name": "python",
   "nbconvert_exporter": "python",
   "pygments_lexer": "ipython3",
   "version": "3.12.6"
  }
 },
 "nbformat": 4,
 "nbformat_minor": 2
}
